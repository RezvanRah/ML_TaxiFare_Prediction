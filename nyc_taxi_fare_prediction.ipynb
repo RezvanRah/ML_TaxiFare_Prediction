{
 "cells": [
  {
   "cell_type": "markdown",
   "id": "0b907b46-50a7-41ff-847c-02a89c9a6d69",
   "metadata": {},
   "source": [
    "<h1>\"Predicting NYC Yellow Taxi Fare Amounts with Linear Regression: A Machine Learning Project Using June 2023 Trip Records\"</h1>\n",
    "<h2>In this machine learning project, I used linear regression to predict the fare amount of New York City taxi rides. The project utilized a large dataset of taxi rides and features such as passenger count, trip distance, and pickup/dropoff locations to train the model. The project also involved data cleaning, feature engineering, and visualization.<h2>\n",
    "\n",
    "<div align=\"center\"> <img src=\"nyctaxi.jpg\" width=\"500\" /></div>"
   ]
  },
  {
   "cell_type": "code",
   "execution_count": 1,
   "id": "c274aff3-3535-49c6-81de-b4a1cc690531",
   "metadata": {},
   "outputs": [],
   "source": [
    "#importing necessary libraries\n",
    "import pandas as pd\n",
    "import numpy as np\n",
    "import matplotlib.pyplot as plt\n",
    "import seaborn as sns\n",
    "import pyarrow.parquet as pq\n",
    "from geopy.distance import geodesic\n",
    "from sklearn.model_selection import train_test_split\n",
    "from sklearn.linear_model import LinearRegression\n",
    "from sklearn.metrics import mean_squared_error\n",
    "from sklearn.metrics import r2_score\n",
    "\n",
    "%matplotlib inline"
   ]
  },
  {
   "cell_type": "code",
   "execution_count": 2,
   "id": "868c1d23-0872-4528-a900-fe5609b7966a",
   "metadata": {},
   "outputs": [],
   "source": [
    "#importing the dataset\n",
    "df = pd.read_parquet('yellow_tripdata_2023-06.parquet', engine='pyarrow')"
   ]
  },
  {
   "cell_type": "markdown",
   "id": "000b5c58-d09f-44cc-9556-ac28ed827b6d",
   "metadata": {},
   "source": [
    "<h1>Getting some information about the dataset:</h1>\n",
    "<h3> The dataset cointains 3307234 rows of data.</h3>"
   ]
  },
  {
   "cell_type": "code",
   "execution_count": 3,
   "id": "acac6bba-3b7f-4710-bd91-d22dccb17a5c",
   "metadata": {},
   "outputs": [
    {
     "data": {
      "text/html": [
       "<div>\n",
       "<style scoped>\n",
       "    .dataframe tbody tr th:only-of-type {\n",
       "        vertical-align: middle;\n",
       "    }\n",
       "\n",
       "    .dataframe tbody tr th {\n",
       "        vertical-align: top;\n",
       "    }\n",
       "\n",
       "    .dataframe thead th {\n",
       "        text-align: right;\n",
       "    }\n",
       "</style>\n",
       "<table border=\"1\" class=\"dataframe\">\n",
       "  <thead>\n",
       "    <tr style=\"text-align: right;\">\n",
       "      <th></th>\n",
       "      <th>VendorID</th>\n",
       "      <th>tpep_pickup_datetime</th>\n",
       "      <th>tpep_dropoff_datetime</th>\n",
       "      <th>passenger_count</th>\n",
       "      <th>trip_distance</th>\n",
       "      <th>RatecodeID</th>\n",
       "      <th>store_and_fwd_flag</th>\n",
       "      <th>PULocationID</th>\n",
       "      <th>DOLocationID</th>\n",
       "      <th>payment_type</th>\n",
       "      <th>fare_amount</th>\n",
       "      <th>extra</th>\n",
       "      <th>mta_tax</th>\n",
       "      <th>tip_amount</th>\n",
       "      <th>tolls_amount</th>\n",
       "      <th>improvement_surcharge</th>\n",
       "      <th>total_amount</th>\n",
       "      <th>congestion_surcharge</th>\n",
       "      <th>Airport_fee</th>\n",
       "    </tr>\n",
       "  </thead>\n",
       "  <tbody>\n",
       "    <tr>\n",
       "      <th>0</th>\n",
       "      <td>1</td>\n",
       "      <td>2023-06-01 00:08:48</td>\n",
       "      <td>2023-06-01 00:29:41</td>\n",
       "      <td>1.0</td>\n",
       "      <td>3.40</td>\n",
       "      <td>1.0</td>\n",
       "      <td>N</td>\n",
       "      <td>140</td>\n",
       "      <td>238</td>\n",
       "      <td>1</td>\n",
       "      <td>21.90</td>\n",
       "      <td>3.50</td>\n",
       "      <td>0.5</td>\n",
       "      <td>6.70</td>\n",
       "      <td>0.00</td>\n",
       "      <td>1.0</td>\n",
       "      <td>33.60</td>\n",
       "      <td>2.5</td>\n",
       "      <td>0.00</td>\n",
       "    </tr>\n",
       "    <tr>\n",
       "      <th>1</th>\n",
       "      <td>1</td>\n",
       "      <td>2023-06-01 00:15:04</td>\n",
       "      <td>2023-06-01 00:25:18</td>\n",
       "      <td>0.0</td>\n",
       "      <td>3.40</td>\n",
       "      <td>1.0</td>\n",
       "      <td>N</td>\n",
       "      <td>50</td>\n",
       "      <td>151</td>\n",
       "      <td>1</td>\n",
       "      <td>15.60</td>\n",
       "      <td>3.50</td>\n",
       "      <td>0.5</td>\n",
       "      <td>3.00</td>\n",
       "      <td>0.00</td>\n",
       "      <td>1.0</td>\n",
       "      <td>23.60</td>\n",
       "      <td>2.5</td>\n",
       "      <td>0.00</td>\n",
       "    </tr>\n",
       "    <tr>\n",
       "      <th>2</th>\n",
       "      <td>1</td>\n",
       "      <td>2023-06-01 00:48:24</td>\n",
       "      <td>2023-06-01 01:07:07</td>\n",
       "      <td>1.0</td>\n",
       "      <td>10.20</td>\n",
       "      <td>1.0</td>\n",
       "      <td>N</td>\n",
       "      <td>138</td>\n",
       "      <td>97</td>\n",
       "      <td>1</td>\n",
       "      <td>40.80</td>\n",
       "      <td>7.75</td>\n",
       "      <td>0.5</td>\n",
       "      <td>10.00</td>\n",
       "      <td>0.00</td>\n",
       "      <td>1.0</td>\n",
       "      <td>60.05</td>\n",
       "      <td>0.0</td>\n",
       "      <td>1.75</td>\n",
       "    </tr>\n",
       "    <tr>\n",
       "      <th>3</th>\n",
       "      <td>2</td>\n",
       "      <td>2023-06-01 00:54:03</td>\n",
       "      <td>2023-06-01 01:17:29</td>\n",
       "      <td>3.0</td>\n",
       "      <td>9.83</td>\n",
       "      <td>1.0</td>\n",
       "      <td>N</td>\n",
       "      <td>100</td>\n",
       "      <td>244</td>\n",
       "      <td>1</td>\n",
       "      <td>39.40</td>\n",
       "      <td>1.00</td>\n",
       "      <td>0.5</td>\n",
       "      <td>8.88</td>\n",
       "      <td>0.00</td>\n",
       "      <td>1.0</td>\n",
       "      <td>53.28</td>\n",
       "      <td>2.5</td>\n",
       "      <td>0.00</td>\n",
       "    </tr>\n",
       "    <tr>\n",
       "      <th>4</th>\n",
       "      <td>2</td>\n",
       "      <td>2023-06-01 00:18:44</td>\n",
       "      <td>2023-06-01 00:27:18</td>\n",
       "      <td>1.0</td>\n",
       "      <td>1.17</td>\n",
       "      <td>1.0</td>\n",
       "      <td>N</td>\n",
       "      <td>137</td>\n",
       "      <td>234</td>\n",
       "      <td>1</td>\n",
       "      <td>9.30</td>\n",
       "      <td>1.00</td>\n",
       "      <td>0.5</td>\n",
       "      <td>0.72</td>\n",
       "      <td>0.00</td>\n",
       "      <td>1.0</td>\n",
       "      <td>15.02</td>\n",
       "      <td>2.5</td>\n",
       "      <td>0.00</td>\n",
       "    </tr>\n",
       "    <tr>\n",
       "      <th>...</th>\n",
       "      <td>...</td>\n",
       "      <td>...</td>\n",
       "      <td>...</td>\n",
       "      <td>...</td>\n",
       "      <td>...</td>\n",
       "      <td>...</td>\n",
       "      <td>...</td>\n",
       "      <td>...</td>\n",
       "      <td>...</td>\n",
       "      <td>...</td>\n",
       "      <td>...</td>\n",
       "      <td>...</td>\n",
       "      <td>...</td>\n",
       "      <td>...</td>\n",
       "      <td>...</td>\n",
       "      <td>...</td>\n",
       "      <td>...</td>\n",
       "      <td>...</td>\n",
       "      <td>...</td>\n",
       "    </tr>\n",
       "    <tr>\n",
       "      <th>3307229</th>\n",
       "      <td>2</td>\n",
       "      <td>2023-06-30 23:30:21</td>\n",
       "      <td>2023-07-01 00:00:46</td>\n",
       "      <td>NaN</td>\n",
       "      <td>9.20</td>\n",
       "      <td>NaN</td>\n",
       "      <td>None</td>\n",
       "      <td>42</td>\n",
       "      <td>148</td>\n",
       "      <td>0</td>\n",
       "      <td>38.53</td>\n",
       "      <td>0.00</td>\n",
       "      <td>0.5</td>\n",
       "      <td>8.51</td>\n",
       "      <td>0.00</td>\n",
       "      <td>1.0</td>\n",
       "      <td>51.04</td>\n",
       "      <td>NaN</td>\n",
       "      <td>NaN</td>\n",
       "    </tr>\n",
       "    <tr>\n",
       "      <th>3307230</th>\n",
       "      <td>1</td>\n",
       "      <td>2023-06-30 23:34:22</td>\n",
       "      <td>2023-07-01 00:32:59</td>\n",
       "      <td>NaN</td>\n",
       "      <td>20.20</td>\n",
       "      <td>NaN</td>\n",
       "      <td>None</td>\n",
       "      <td>132</td>\n",
       "      <td>74</td>\n",
       "      <td>0</td>\n",
       "      <td>70.00</td>\n",
       "      <td>1.75</td>\n",
       "      <td>0.5</td>\n",
       "      <td>11.97</td>\n",
       "      <td>6.55</td>\n",
       "      <td>1.0</td>\n",
       "      <td>91.77</td>\n",
       "      <td>NaN</td>\n",
       "      <td>NaN</td>\n",
       "    </tr>\n",
       "    <tr>\n",
       "      <th>3307231</th>\n",
       "      <td>2</td>\n",
       "      <td>2023-06-30 23:45:00</td>\n",
       "      <td>2023-07-01 00:10:00</td>\n",
       "      <td>NaN</td>\n",
       "      <td>6.16</td>\n",
       "      <td>NaN</td>\n",
       "      <td>None</td>\n",
       "      <td>256</td>\n",
       "      <td>140</td>\n",
       "      <td>0</td>\n",
       "      <td>28.03</td>\n",
       "      <td>0.00</td>\n",
       "      <td>0.5</td>\n",
       "      <td>6.41</td>\n",
       "      <td>0.00</td>\n",
       "      <td>1.0</td>\n",
       "      <td>38.44</td>\n",
       "      <td>NaN</td>\n",
       "      <td>NaN</td>\n",
       "    </tr>\n",
       "    <tr>\n",
       "      <th>3307232</th>\n",
       "      <td>2</td>\n",
       "      <td>2023-06-30 23:13:38</td>\n",
       "      <td>2023-06-30 23:51:19</td>\n",
       "      <td>NaN</td>\n",
       "      <td>11.65</td>\n",
       "      <td>NaN</td>\n",
       "      <td>None</td>\n",
       "      <td>91</td>\n",
       "      <td>246</td>\n",
       "      <td>0</td>\n",
       "      <td>45.74</td>\n",
       "      <td>0.00</td>\n",
       "      <td>0.5</td>\n",
       "      <td>0.00</td>\n",
       "      <td>6.55</td>\n",
       "      <td>1.0</td>\n",
       "      <td>56.29</td>\n",
       "      <td>NaN</td>\n",
       "      <td>NaN</td>\n",
       "    </tr>\n",
       "    <tr>\n",
       "      <th>3307233</th>\n",
       "      <td>2</td>\n",
       "      <td>2023-06-30 23:18:00</td>\n",
       "      <td>2023-06-30 23:31:00</td>\n",
       "      <td>NaN</td>\n",
       "      <td>1.40</td>\n",
       "      <td>NaN</td>\n",
       "      <td>None</td>\n",
       "      <td>164</td>\n",
       "      <td>230</td>\n",
       "      <td>0</td>\n",
       "      <td>14.35</td>\n",
       "      <td>0.00</td>\n",
       "      <td>0.5</td>\n",
       "      <td>0.00</td>\n",
       "      <td>0.00</td>\n",
       "      <td>1.0</td>\n",
       "      <td>18.35</td>\n",
       "      <td>NaN</td>\n",
       "      <td>NaN</td>\n",
       "    </tr>\n",
       "  </tbody>\n",
       "</table>\n",
       "<p>3307234 rows × 19 columns</p>\n",
       "</div>"
      ],
      "text/plain": [
       "         VendorID tpep_pickup_datetime tpep_dropoff_datetime  passenger_count  \\\n",
       "0               1  2023-06-01 00:08:48   2023-06-01 00:29:41              1.0   \n",
       "1               1  2023-06-01 00:15:04   2023-06-01 00:25:18              0.0   \n",
       "2               1  2023-06-01 00:48:24   2023-06-01 01:07:07              1.0   \n",
       "3               2  2023-06-01 00:54:03   2023-06-01 01:17:29              3.0   \n",
       "4               2  2023-06-01 00:18:44   2023-06-01 00:27:18              1.0   \n",
       "...           ...                  ...                   ...              ...   \n",
       "3307229         2  2023-06-30 23:30:21   2023-07-01 00:00:46              NaN   \n",
       "3307230         1  2023-06-30 23:34:22   2023-07-01 00:32:59              NaN   \n",
       "3307231         2  2023-06-30 23:45:00   2023-07-01 00:10:00              NaN   \n",
       "3307232         2  2023-06-30 23:13:38   2023-06-30 23:51:19              NaN   \n",
       "3307233         2  2023-06-30 23:18:00   2023-06-30 23:31:00              NaN   \n",
       "\n",
       "         trip_distance  RatecodeID store_and_fwd_flag  PULocationID  \\\n",
       "0                 3.40         1.0                  N           140   \n",
       "1                 3.40         1.0                  N            50   \n",
       "2                10.20         1.0                  N           138   \n",
       "3                 9.83         1.0                  N           100   \n",
       "4                 1.17         1.0                  N           137   \n",
       "...                ...         ...                ...           ...   \n",
       "3307229           9.20         NaN               None            42   \n",
       "3307230          20.20         NaN               None           132   \n",
       "3307231           6.16         NaN               None           256   \n",
       "3307232          11.65         NaN               None            91   \n",
       "3307233           1.40         NaN               None           164   \n",
       "\n",
       "         DOLocationID  payment_type  fare_amount  extra  mta_tax  tip_amount  \\\n",
       "0                 238             1        21.90   3.50      0.5        6.70   \n",
       "1                 151             1        15.60   3.50      0.5        3.00   \n",
       "2                  97             1        40.80   7.75      0.5       10.00   \n",
       "3                 244             1        39.40   1.00      0.5        8.88   \n",
       "4                 234             1         9.30   1.00      0.5        0.72   \n",
       "...               ...           ...          ...    ...      ...         ...   \n",
       "3307229           148             0        38.53   0.00      0.5        8.51   \n",
       "3307230            74             0        70.00   1.75      0.5       11.97   \n",
       "3307231           140             0        28.03   0.00      0.5        6.41   \n",
       "3307232           246             0        45.74   0.00      0.5        0.00   \n",
       "3307233           230             0        14.35   0.00      0.5        0.00   \n",
       "\n",
       "         tolls_amount  improvement_surcharge  total_amount  \\\n",
       "0                0.00                    1.0         33.60   \n",
       "1                0.00                    1.0         23.60   \n",
       "2                0.00                    1.0         60.05   \n",
       "3                0.00                    1.0         53.28   \n",
       "4                0.00                    1.0         15.02   \n",
       "...               ...                    ...           ...   \n",
       "3307229          0.00                    1.0         51.04   \n",
       "3307230          6.55                    1.0         91.77   \n",
       "3307231          0.00                    1.0         38.44   \n",
       "3307232          6.55                    1.0         56.29   \n",
       "3307233          0.00                    1.0         18.35   \n",
       "\n",
       "         congestion_surcharge  Airport_fee  \n",
       "0                         2.5         0.00  \n",
       "1                         2.5         0.00  \n",
       "2                         0.0         1.75  \n",
       "3                         2.5         0.00  \n",
       "4                         2.5         0.00  \n",
       "...                       ...          ...  \n",
       "3307229                   NaN          NaN  \n",
       "3307230                   NaN          NaN  \n",
       "3307231                   NaN          NaN  \n",
       "3307232                   NaN          NaN  \n",
       "3307233                   NaN          NaN  \n",
       "\n",
       "[3307234 rows x 19 columns]"
      ]
     },
     "execution_count": 3,
     "metadata": {},
     "output_type": "execute_result"
    }
   ],
   "source": [
    "df"
   ]
  },
  {
   "cell_type": "code",
   "execution_count": 4,
   "id": "d78fbe09-6abb-4304-badf-f4d2a5ce5492",
   "metadata": {},
   "outputs": [
    {
     "name": "stdout",
     "output_type": "stream",
     "text": [
      "<class 'pandas.core.frame.DataFrame'>\n",
      "RangeIndex: 3307234 entries, 0 to 3307233\n",
      "Data columns (total 19 columns):\n",
      " #   Column                 Dtype         \n",
      "---  ------                 -----         \n",
      " 0   VendorID               int32         \n",
      " 1   tpep_pickup_datetime   datetime64[us]\n",
      " 2   tpep_dropoff_datetime  datetime64[us]\n",
      " 3   passenger_count        float64       \n",
      " 4   trip_distance          float64       \n",
      " 5   RatecodeID             float64       \n",
      " 6   store_and_fwd_flag     object        \n",
      " 7   PULocationID           int32         \n",
      " 8   DOLocationID           int32         \n",
      " 9   payment_type           int64         \n",
      " 10  fare_amount            float64       \n",
      " 11  extra                  float64       \n",
      " 12  mta_tax                float64       \n",
      " 13  tip_amount             float64       \n",
      " 14  tolls_amount           float64       \n",
      " 15  improvement_surcharge  float64       \n",
      " 16  total_amount           float64       \n",
      " 17  congestion_surcharge   float64       \n",
      " 18  Airport_fee            float64       \n",
      "dtypes: datetime64[us](2), float64(12), int32(3), int64(1), object(1)\n",
      "memory usage: 441.6+ MB\n"
     ]
    }
   ],
   "source": [
    "df.info()"
   ]
  },
  {
   "cell_type": "code",
   "execution_count": 5,
   "id": "983bdbf8-47c5-40f5-9b75-df3618261827",
   "metadata": {},
   "outputs": [
    {
     "data": {
      "text/html": [
       "<div>\n",
       "<style scoped>\n",
       "    .dataframe tbody tr th:only-of-type {\n",
       "        vertical-align: middle;\n",
       "    }\n",
       "\n",
       "    .dataframe tbody tr th {\n",
       "        vertical-align: top;\n",
       "    }\n",
       "\n",
       "    .dataframe thead th {\n",
       "        text-align: right;\n",
       "    }\n",
       "</style>\n",
       "<table border=\"1\" class=\"dataframe\">\n",
       "  <thead>\n",
       "    <tr style=\"text-align: right;\">\n",
       "      <th></th>\n",
       "      <th>VendorID</th>\n",
       "      <th>tpep_pickup_datetime</th>\n",
       "      <th>tpep_dropoff_datetime</th>\n",
       "      <th>passenger_count</th>\n",
       "      <th>trip_distance</th>\n",
       "      <th>RatecodeID</th>\n",
       "      <th>PULocationID</th>\n",
       "      <th>DOLocationID</th>\n",
       "      <th>payment_type</th>\n",
       "      <th>fare_amount</th>\n",
       "      <th>extra</th>\n",
       "      <th>mta_tax</th>\n",
       "      <th>tip_amount</th>\n",
       "      <th>tolls_amount</th>\n",
       "      <th>improvement_surcharge</th>\n",
       "      <th>total_amount</th>\n",
       "      <th>congestion_surcharge</th>\n",
       "      <th>Airport_fee</th>\n",
       "    </tr>\n",
       "  </thead>\n",
       "  <tbody>\n",
       "    <tr>\n",
       "      <th>count</th>\n",
       "      <td>3.307234e+06</td>\n",
       "      <td>3307234</td>\n",
       "      <td>3307234</td>\n",
       "      <td>3.207347e+06</td>\n",
       "      <td>3.307234e+06</td>\n",
       "      <td>3.207347e+06</td>\n",
       "      <td>3.307234e+06</td>\n",
       "      <td>3.307234e+06</td>\n",
       "      <td>3.307234e+06</td>\n",
       "      <td>3.307234e+06</td>\n",
       "      <td>3.307234e+06</td>\n",
       "      <td>3.307234e+06</td>\n",
       "      <td>3.307234e+06</td>\n",
       "      <td>3.307234e+06</td>\n",
       "      <td>3.307234e+06</td>\n",
       "      <td>3.307234e+06</td>\n",
       "      <td>3.207347e+06</td>\n",
       "      <td>3.207347e+06</td>\n",
       "    </tr>\n",
       "    <tr>\n",
       "      <th>mean</th>\n",
       "      <td>1.737262e+00</td>\n",
       "      <td>2023-06-15 18:09:27.394469</td>\n",
       "      <td>2023-06-15 18:27:09.958314</td>\n",
       "      <td>1.369012e+00</td>\n",
       "      <td>4.368790e+00</td>\n",
       "      <td>1.547159e+00</td>\n",
       "      <td>1.649028e+02</td>\n",
       "      <td>1.638013e+02</td>\n",
       "      <td>1.187126e+00</td>\n",
       "      <td>1.998804e+01</td>\n",
       "      <td>1.620755e+00</td>\n",
       "      <td>4.859043e-01</td>\n",
       "      <td>3.594915e+00</td>\n",
       "      <td>6.065670e-01</td>\n",
       "      <td>9.805643e-01</td>\n",
       "      <td>2.906873e+01</td>\n",
       "      <td>2.262730e+00</td>\n",
       "      <td>1.534284e-01</td>\n",
       "    </tr>\n",
       "    <tr>\n",
       "      <th>min</th>\n",
       "      <td>1.000000e+00</td>\n",
       "      <td>2002-12-31 23:03:19</td>\n",
       "      <td>2002-12-31 23:06:17</td>\n",
       "      <td>0.000000e+00</td>\n",
       "      <td>0.000000e+00</td>\n",
       "      <td>1.000000e+00</td>\n",
       "      <td>1.000000e+00</td>\n",
       "      <td>1.000000e+00</td>\n",
       "      <td>0.000000e+00</td>\n",
       "      <td>-7.500000e+02</td>\n",
       "      <td>-7.500000e+00</td>\n",
       "      <td>-5.000000e-01</td>\n",
       "      <td>-9.500000e+01</td>\n",
       "      <td>-7.255000e+01</td>\n",
       "      <td>-1.000000e+00</td>\n",
       "      <td>-7.510000e+02</td>\n",
       "      <td>-2.500000e+00</td>\n",
       "      <td>-1.750000e+00</td>\n",
       "    </tr>\n",
       "    <tr>\n",
       "      <th>25%</th>\n",
       "      <td>1.000000e+00</td>\n",
       "      <td>2023-06-08 09:12:42.250000</td>\n",
       "      <td>2023-06-08 09:30:06.250000</td>\n",
       "      <td>1.000000e+00</td>\n",
       "      <td>1.080000e+00</td>\n",
       "      <td>1.000000e+00</td>\n",
       "      <td>1.320000e+02</td>\n",
       "      <td>1.130000e+02</td>\n",
       "      <td>1.000000e+00</td>\n",
       "      <td>9.300000e+00</td>\n",
       "      <td>0.000000e+00</td>\n",
       "      <td>5.000000e-01</td>\n",
       "      <td>1.000000e+00</td>\n",
       "      <td>0.000000e+00</td>\n",
       "      <td>1.000000e+00</td>\n",
       "      <td>1.596000e+01</td>\n",
       "      <td>2.500000e+00</td>\n",
       "      <td>0.000000e+00</td>\n",
       "    </tr>\n",
       "    <tr>\n",
       "      <th>50%</th>\n",
       "      <td>2.000000e+00</td>\n",
       "      <td>2023-06-15 14:15:24.500000</td>\n",
       "      <td>2023-06-15 14:36:09</td>\n",
       "      <td>1.000000e+00</td>\n",
       "      <td>1.820000e+00</td>\n",
       "      <td>1.000000e+00</td>\n",
       "      <td>1.610000e+02</td>\n",
       "      <td>1.620000e+02</td>\n",
       "      <td>1.000000e+00</td>\n",
       "      <td>1.350000e+01</td>\n",
       "      <td>1.000000e+00</td>\n",
       "      <td>5.000000e-01</td>\n",
       "      <td>2.860000e+00</td>\n",
       "      <td>0.000000e+00</td>\n",
       "      <td>1.000000e+00</td>\n",
       "      <td>2.130000e+01</td>\n",
       "      <td>2.500000e+00</td>\n",
       "      <td>0.000000e+00</td>\n",
       "    </tr>\n",
       "    <tr>\n",
       "      <th>75%</th>\n",
       "      <td>2.000000e+00</td>\n",
       "      <td>2023-06-23 02:25:20</td>\n",
       "      <td>2023-06-23 02:40:05.750000</td>\n",
       "      <td>1.000000e+00</td>\n",
       "      <td>3.540000e+00</td>\n",
       "      <td>1.000000e+00</td>\n",
       "      <td>2.330000e+02</td>\n",
       "      <td>2.340000e+02</td>\n",
       "      <td>1.000000e+00</td>\n",
       "      <td>2.260000e+01</td>\n",
       "      <td>2.500000e+00</td>\n",
       "      <td>5.000000e-01</td>\n",
       "      <td>4.480000e+00</td>\n",
       "      <td>0.000000e+00</td>\n",
       "      <td>1.000000e+00</td>\n",
       "      <td>3.130000e+01</td>\n",
       "      <td>2.500000e+00</td>\n",
       "      <td>0.000000e+00</td>\n",
       "    </tr>\n",
       "    <tr>\n",
       "      <th>max</th>\n",
       "      <td>6.000000e+00</td>\n",
       "      <td>2023-07-01 00:42:13</td>\n",
       "      <td>2023-07-03 16:31:24</td>\n",
       "      <td>9.000000e+00</td>\n",
       "      <td>1.852505e+05</td>\n",
       "      <td>9.900000e+01</td>\n",
       "      <td>2.650000e+02</td>\n",
       "      <td>2.650000e+02</td>\n",
       "      <td>5.000000e+00</td>\n",
       "      <td>3.869836e+05</td>\n",
       "      <td>1.425000e+01</td>\n",
       "      <td>5.750000e+00</td>\n",
       "      <td>7.118800e+02</td>\n",
       "      <td>6.655600e+02</td>\n",
       "      <td>1.000000e+00</td>\n",
       "      <td>3.869876e+05</td>\n",
       "      <td>2.500000e+00</td>\n",
       "      <td>1.750000e+00</td>\n",
       "    </tr>\n",
       "    <tr>\n",
       "      <th>std</th>\n",
       "      <td>4.477026e-01</td>\n",
       "      <td>NaN</td>\n",
       "      <td>NaN</td>\n",
       "      <td>8.959539e-01</td>\n",
       "      <td>2.280398e+02</td>\n",
       "      <td>6.762597e+00</td>\n",
       "      <td>6.404389e+01</td>\n",
       "      <td>7.005873e+01</td>\n",
       "      <td>5.478269e-01</td>\n",
       "      <td>2.136687e+02</td>\n",
       "      <td>1.869549e+00</td>\n",
       "      <td>1.068704e-01</td>\n",
       "      <td>4.203569e+00</td>\n",
       "      <td>2.252982e+00</td>\n",
       "      <td>1.941525e-01</td>\n",
       "      <td>2.141569e+02</td>\n",
       "      <td>7.960739e-01</td>\n",
       "      <td>5.027511e-01</td>\n",
       "    </tr>\n",
       "  </tbody>\n",
       "</table>\n",
       "</div>"
      ],
      "text/plain": [
       "           VendorID        tpep_pickup_datetime       tpep_dropoff_datetime  \\\n",
       "count  3.307234e+06                     3307234                     3307234   \n",
       "mean   1.737262e+00  2023-06-15 18:09:27.394469  2023-06-15 18:27:09.958314   \n",
       "min    1.000000e+00         2002-12-31 23:03:19         2002-12-31 23:06:17   \n",
       "25%    1.000000e+00  2023-06-08 09:12:42.250000  2023-06-08 09:30:06.250000   \n",
       "50%    2.000000e+00  2023-06-15 14:15:24.500000         2023-06-15 14:36:09   \n",
       "75%    2.000000e+00         2023-06-23 02:25:20  2023-06-23 02:40:05.750000   \n",
       "max    6.000000e+00         2023-07-01 00:42:13         2023-07-03 16:31:24   \n",
       "std    4.477026e-01                         NaN                         NaN   \n",
       "\n",
       "       passenger_count  trip_distance    RatecodeID  PULocationID  \\\n",
       "count     3.207347e+06   3.307234e+06  3.207347e+06  3.307234e+06   \n",
       "mean      1.369012e+00   4.368790e+00  1.547159e+00  1.649028e+02   \n",
       "min       0.000000e+00   0.000000e+00  1.000000e+00  1.000000e+00   \n",
       "25%       1.000000e+00   1.080000e+00  1.000000e+00  1.320000e+02   \n",
       "50%       1.000000e+00   1.820000e+00  1.000000e+00  1.610000e+02   \n",
       "75%       1.000000e+00   3.540000e+00  1.000000e+00  2.330000e+02   \n",
       "max       9.000000e+00   1.852505e+05  9.900000e+01  2.650000e+02   \n",
       "std       8.959539e-01   2.280398e+02  6.762597e+00  6.404389e+01   \n",
       "\n",
       "       DOLocationID  payment_type   fare_amount         extra       mta_tax  \\\n",
       "count  3.307234e+06  3.307234e+06  3.307234e+06  3.307234e+06  3.307234e+06   \n",
       "mean   1.638013e+02  1.187126e+00  1.998804e+01  1.620755e+00  4.859043e-01   \n",
       "min    1.000000e+00  0.000000e+00 -7.500000e+02 -7.500000e+00 -5.000000e-01   \n",
       "25%    1.130000e+02  1.000000e+00  9.300000e+00  0.000000e+00  5.000000e-01   \n",
       "50%    1.620000e+02  1.000000e+00  1.350000e+01  1.000000e+00  5.000000e-01   \n",
       "75%    2.340000e+02  1.000000e+00  2.260000e+01  2.500000e+00  5.000000e-01   \n",
       "max    2.650000e+02  5.000000e+00  3.869836e+05  1.425000e+01  5.750000e+00   \n",
       "std    7.005873e+01  5.478269e-01  2.136687e+02  1.869549e+00  1.068704e-01   \n",
       "\n",
       "         tip_amount  tolls_amount  improvement_surcharge  total_amount  \\\n",
       "count  3.307234e+06  3.307234e+06           3.307234e+06  3.307234e+06   \n",
       "mean   3.594915e+00  6.065670e-01           9.805643e-01  2.906873e+01   \n",
       "min   -9.500000e+01 -7.255000e+01          -1.000000e+00 -7.510000e+02   \n",
       "25%    1.000000e+00  0.000000e+00           1.000000e+00  1.596000e+01   \n",
       "50%    2.860000e+00  0.000000e+00           1.000000e+00  2.130000e+01   \n",
       "75%    4.480000e+00  0.000000e+00           1.000000e+00  3.130000e+01   \n",
       "max    7.118800e+02  6.655600e+02           1.000000e+00  3.869876e+05   \n",
       "std    4.203569e+00  2.252982e+00           1.941525e-01  2.141569e+02   \n",
       "\n",
       "       congestion_surcharge   Airport_fee  \n",
       "count          3.207347e+06  3.207347e+06  \n",
       "mean           2.262730e+00  1.534284e-01  \n",
       "min           -2.500000e+00 -1.750000e+00  \n",
       "25%            2.500000e+00  0.000000e+00  \n",
       "50%            2.500000e+00  0.000000e+00  \n",
       "75%            2.500000e+00  0.000000e+00  \n",
       "max            2.500000e+00  1.750000e+00  \n",
       "std            7.960739e-01  5.027511e-01  "
      ]
     },
     "execution_count": 5,
     "metadata": {},
     "output_type": "execute_result"
    }
   ],
   "source": [
    "df.describe()"
   ]
  },
  {
   "cell_type": "markdown",
   "id": "a6dd4e22-a8b2-4f5c-904a-bc533419a7fc",
   "metadata": {},
   "source": [
    "<h1>Data Cleaning: </h1>"
   ]
  },
  {
   "cell_type": "code",
   "execution_count": 6,
   "id": "c463abad-2369-4dc2-b361-4e27498db621",
   "metadata": {},
   "outputs": [
    {
     "data": {
      "text/plain": [
       "False"
      ]
     },
     "execution_count": 6,
     "metadata": {},
     "output_type": "execute_result"
    }
   ],
   "source": [
    "#check for duplicates\n",
    "df.duplicated().any()"
   ]
  },
  {
   "cell_type": "code",
   "execution_count": 7,
   "id": "a3dfcc61-d7f2-44f6-8bd0-383f799a50fc",
   "metadata": {},
   "outputs": [
    {
     "data": {
      "text/plain": [
       "VendorID                 False\n",
       "tpep_pickup_datetime     False\n",
       "tpep_dropoff_datetime    False\n",
       "passenger_count           True\n",
       "trip_distance            False\n",
       "RatecodeID                True\n",
       "store_and_fwd_flag        True\n",
       "PULocationID             False\n",
       "DOLocationID             False\n",
       "payment_type             False\n",
       "fare_amount              False\n",
       "extra                    False\n",
       "mta_tax                  False\n",
       "tip_amount               False\n",
       "tolls_amount             False\n",
       "improvement_surcharge    False\n",
       "total_amount             False\n",
       "congestion_surcharge      True\n",
       "Airport_fee               True\n",
       "dtype: bool"
      ]
     },
     "execution_count": 7,
     "metadata": {},
     "output_type": "execute_result"
    }
   ],
   "source": [
    "#check for null values\n",
    "df.isnull().any()"
   ]
  },
  {
   "cell_type": "code",
   "execution_count": 8,
   "id": "148b1f5c-ca5c-4bf8-9e27-94038b58364d",
   "metadata": {},
   "outputs": [
    {
     "data": {
      "text/plain": [
       "VendorID                     0\n",
       "tpep_pickup_datetime         0\n",
       "tpep_dropoff_datetime        0\n",
       "passenger_count          99887\n",
       "trip_distance                0\n",
       "RatecodeID               99887\n",
       "store_and_fwd_flag       99887\n",
       "PULocationID                 0\n",
       "DOLocationID                 0\n",
       "payment_type                 0\n",
       "fare_amount                  0\n",
       "extra                        0\n",
       "mta_tax                      0\n",
       "tip_amount                   0\n",
       "tolls_amount                 0\n",
       "improvement_surcharge        0\n",
       "total_amount                 0\n",
       "congestion_surcharge     99887\n",
       "Airport_fee              99887\n",
       "dtype: int64"
      ]
     },
     "execution_count": 8,
     "metadata": {},
     "output_type": "execute_result"
    }
   ],
   "source": [
    "#This dataset has more than 3 millions of data, and only 5 columns have 99887 null values, so I decided to remove them.\n",
    "null_counts = df.isnull().sum()\n",
    "null_counts"
   ]
  },
  {
   "cell_type": "code",
   "execution_count": 9,
   "id": "70466b87-191e-4cec-9435-9aa993576c56",
   "metadata": {},
   "outputs": [],
   "source": [
    "#removing the null values\n",
    "df = df.dropna()"
   ]
  },
  {
   "cell_type": "code",
   "execution_count": 10,
   "id": "0ab5e6de-499c-484f-80c7-23bc9443cf59",
   "metadata": {},
   "outputs": [],
   "source": [
    "#removing irrelevant columns\n",
    "df = df.drop(['VendorID', 'store_and_fwd_flag'], axis=1)"
   ]
  },
  {
   "cell_type": "markdown",
   "id": "73702e8d-1e51-42a4-8135-79e4e3dfc453",
   "metadata": {},
   "source": [
    "<h1>Feature Engineering: </h1>"
   ]
  },
  {
   "cell_type": "markdown",
   "id": "36f3f538-a6af-498d-9af4-ef122886b838",
   "metadata": {},
   "source": [
    "<h3>Euclidean distance and Manhattan distance are two common distance metrics used in machine learning and data analysis to measure the distance between two points in a multi-dimensional space.</h3>\n",
    "<h3>Euclidean distance: Euclidean distance is the straight-line distance between two points in a multi-dimensional space. It is calculated as the square root of the sum of the squared differences between the corresponding coordinates of the two points. In other words, it is the length of the shortest path between two points in a straight line. Euclidean distance is also known as L2 distance or Euclidean norm.</h3>\n",
    "<h3>Manhattan distance: Manhattan distance is the distance between two points measured along the axes at right angles. It is calculated as the sum of the absolute differences between the corresponding coordinates of the two points. In other words, it is the distance between two points measured along the edges of a rectangle. Manhattan distance is also known as L1 distance, taxicab distance, or city block distance.</h3>"
   ]
  },
  {
   "cell_type": "code",
   "execution_count": 11,
   "id": "ee8767b0-a8df-4eb1-8457-2c35327ec2ad",
   "metadata": {},
   "outputs": [],
   "source": [
    "#Calculating Euclidean distance\n",
    "df['euclidean_distance'] = np.sqrt((df['PULocationID'] - df['DOLocationID'])**2)\n",
    "\n",
    "#Calculating Manhattan distance\n",
    "df['manhattan_distance'] = abs(df['PULocationID'] - df['DOLocationID'])"
   ]
  },
  {
   "cell_type": "markdown",
   "id": "f9d17f88-fb4c-4031-b311-717dcda7f6ba",
   "metadata": {},
   "source": [
    "<h1>Outliers:</h1>"
   ]
  },
  {
   "cell_type": "markdown",
   "id": "3eb6d290-7302-4aae-b75e-72abbb26ee74",
   "metadata": {},
   "source": [
    "<h3>The fare amount can't be negative!</h3>"
   ]
  },
  {
   "cell_type": "code",
   "execution_count": 12,
   "id": "60b18072-6389-4137-b8e4-b063d64df4e9",
   "metadata": {},
   "outputs": [
    {
     "data": {
      "text/plain": [
       "count    3.207347e+06\n",
       "mean     1.986512e+01\n",
       "std      2.169519e+02\n",
       "min     -7.500000e+02\n",
       "25%      9.300000e+00\n",
       "50%      1.350000e+01\n",
       "75%      2.190000e+01\n",
       "max      3.869836e+05\n",
       "Name: fare_amount, dtype: float64"
      ]
     },
     "execution_count": 12,
     "metadata": {},
     "output_type": "execute_result"
    }
   ],
   "source": [
    "df.fare_amount.describe()"
   ]
  },
  {
   "cell_type": "code",
   "execution_count": 13,
   "id": "8d246e9f-f31a-411f-97b8-e6f041843540",
   "metadata": {},
   "outputs": [],
   "source": [
    "# Drop fare_amount less than 0.\n",
    "neg_fare = df.loc[df.fare_amount<0, :].index\n",
    "df.drop(neg_fare, axis = 0, inplace = True)"
   ]
  },
  {
   "cell_type": "markdown",
   "id": "56d7fc98-6c55-4be5-a30f-d05cac8dd139",
   "metadata": {},
   "source": [
    "<h3> According to a website called Introducing New York, , the base fare for a taxi ride in New York City is . so I'm going to remove fare amount less than 3 dollars., </h3></h3>"
   ]
  },
  {
   "cell_type": "code",
   "execution_count": 14,
   "id": "8860afcd-89c2-4f99-b42d-a8bf09945d37",
   "metadata": {},
   "outputs": [],
   "source": [
    "#Drop rows lesser than 2.5\n",
    "fares_to_drop = df.loc[(df.fare_amount<2.5), :].index\n",
    "df.drop(fares_to_drop, axis = 0, inplace = True)"
   ]
  },
  {
   "cell_type": "markdown",
   "id": "8b813e68-e31f-4229-88b7-7ce9ce1c16c2",
   "metadata": {},
   "source": [
    "<h3>Based on Takewalks website, the maximum amount of passengers allowed in a standard taxicab by law is four. When the backseat is crowded, one passenger is permitted to sit beside the driver.</h3>"
   ]
  },
  {
   "cell_type": "code",
   "execution_count": 15,
   "id": "b44508da-5273-4e84-92a1-5f5d0d88255c",
   "metadata": {},
   "outputs": [
    {
     "data": {
      "text/plain": [
       "count    3.175120e+06\n",
       "mean     1.369117e+00\n",
       "std      8.970927e-01\n",
       "min      0.000000e+00\n",
       "25%      1.000000e+00\n",
       "50%      1.000000e+00\n",
       "75%      1.000000e+00\n",
       "max      9.000000e+00\n",
       "Name: passenger_count, dtype: float64"
      ]
     },
     "execution_count": 15,
     "metadata": {},
     "output_type": "execute_result"
    }
   ],
   "source": [
    "df.passenger_count.describe()"
   ]
  },
  {
   "cell_type": "code",
   "execution_count": 16,
   "id": "2cf3d698-8ccb-4c6d-89f9-5b4d61db9f82",
   "metadata": {},
   "outputs": [],
   "source": [
    "#Drop passengers more than 4\n",
    "passengers_to_drop = df.loc[(df.passenger_count>4), :].index\n",
    "df.drop(passengers_to_drop, axis = 0, inplace = True)"
   ]
  },
  {
   "cell_type": "markdown",
   "id": "55161e5a-47c3-4823-92ba-89111025561b",
   "metadata": {},
   "source": [
    "<h1>Data Visualization</h1>"
   ]
  },
  {
   "cell_type": "code",
   "execution_count": 17,
   "id": "e9a30a39-d248-48f2-aa7a-0b802f1da4ae",
   "metadata": {},
   "outputs": [
    {
     "data": {
      "image/png": "[encoded data removed]",
      "text/plain": [
       "<Figure size 500x300 with 1 Axes>"
      ]
     },
     "metadata": {},
     "output_type": "display_data"
    }
   ],
   "source": [
    "# Create the bar plot using barplot from Seaborn\n",
    "plt.figure(figsize=(5, 3))\n",
    "\n",
    "sns.barplot(data=df, x='passenger_count', y='fare_amount')\n",
    "\n",
    "plt.xlabel('Passenger Count')\n",
    "plt.ylabel('Fare Amount')\n",
    "plt.title('Passenger Count vs. Fare Amount')\n",
    "\n",
    "plt.show()"
   ]
  },
  {
   "cell_type": "code",
   "execution_count": 18,
   "id": "6257c4df-ff0f-438b-a3e9-88c7fa35fd98",
   "metadata": {},
   "outputs": [
    {
     "data": {
      "image/png": "[encoded data removed]",
      "text/plain": [
       "<Figure size 500x300 with 1 Axes>"
      ]
     },
     "metadata": {},
     "output_type": "display_data"
    }
   ],
   "source": [
    "# Histogram for passenger_count\n",
    "plt.style.use('default')\n",
    "\n",
    "plt.figure(figsize=(5, 3))\n",
    "\n",
    "plt.hist(df['passenger_count'], bins=10)\n",
    "plt.xlabel('Passenger Count')\n",
    "plt.ylabel('Frequency')\n",
    "plt.title('Distribution of Passenger Count')\n",
    "\n",
    "plt.show()"
   ]
  },
  {
   "cell_type": "code",
   "execution_count": 19,
   "id": "be05d9b5-6e37-444b-bfb2-9895c30d39a1",
   "metadata": {},
   "outputs": [
    {
     "data": {
      "image/png": "[encoded data removed]",
      "text/plain": [
       "<Figure size 640x480 with 1 Axes>"
      ]
     },
     "metadata": {},
     "output_type": "display_data"
    },
    {
     "data": {
      "text/plain": [
       "<Figure size 300x200 with 0 Axes>"
      ]
     },
     "metadata": {},
     "output_type": "display_data"
    }
   ],
   "source": [
    "# Scatter plot for passenger_count vs. tip_amount\n",
    "sns.scatterplot(data=df, x='passenger_count', y='tip_amount')\n",
    "\n",
    "plt.figure(figsize=(3, 2))\n",
    "\n",
    "plt.show()"
   ]
  },
  {
   "cell_type": "markdown",
   "id": "a8612bd9-7019-4418-8e0b-9dbcf01a2d00",
   "metadata": {},
   "source": [
    "<h1>Train The Model </h1>"
   ]
  },
  {
   "cell_type": "markdown",
   "id": "ef4bd206-a244-41b6-bdc3-536aff834c38",
   "metadata": {},
   "source": [
    "<h3>Using linear regression to predict the fare amount of a yellow taxi ride based on the input features such as pickup and dropoff locations, passenger count, and trip distance:</h3>"
   ]
  },
  {
   "cell_type": "code",
   "execution_count": 20,
   "id": "3888044b-d1b1-4ca1-870c-7037e74ff7d6",
   "metadata": {},
   "outputs": [],
   "source": [
    "#Selecting the relevant columns\n",
    "X = ['PULocationID', 'DOLocationID', 'passenger_count', 'trip_distance','euclidean_distance','manhattan_distance']\n",
    "y = 'fare_amount'"
   ]
  },
  {
   "cell_type": "code",
   "execution_count": 21,
   "id": "a0bb0a5f-7852-4e8c-bcaf-ab259c194191",
   "metadata": {},
   "outputs": [],
   "source": [
    "#Spliting the data into training and testing sets\n",
    "X_train, X_test, y_train, y_test = train_test_split(df[X], df[y], test_size=0.2, random_state=42)"
   ]
  },
  {
   "cell_type": "code",
   "execution_count": 22,
   "id": "ae1a694e-e1ad-4835-91b8-3a8ac9360b8b",
   "metadata": {},
   "outputs": [
    {
     "data": {
      "text/html": [
       "<style>#sk-container-id-1 {color: black;}#sk-container-id-1 pre{padding: 0;}#sk-container-id-1 div.sk-toggleable {background-color: white;}#sk-container-id-1 label.sk-toggleable__label {cursor: pointer;display: block;width: 100%;margin-bottom: 0;padding: 0.3em;box-sizing: border-box;text-align: center;}#sk-container-id-1 label.sk-toggleable__label-arrow:before {content: \"▸\";float: left;margin-right: 0.25em;color: #696969;}#sk-container-id-1 label.sk-toggleable__label-arrow:hover:before {color: black;}#sk-container-id-1 div.sk-estimator:hover label.sk-toggleable__label-arrow:before {color: black;}#sk-container-id-1 div.sk-toggleable__content {max-height: 0;max-width: 0;overflow: hidden;text-align: left;background-color: #f0f8ff;}#sk-container-id-1 div.sk-toggleable__content pre {margin: 0.2em;color: black;border-radius: 0.25em;background-color: #f0f8ff;}#sk-container-id-1 input.sk-toggleable__control:checked~div.sk-toggleable__content {max-height: 200px;max-width: 100%;overflow: auto;}#sk-container-id-1 input.sk-toggleable__control:checked~label.sk-toggleable__label-arrow:before {content: \"▾\";}#sk-container-id-1 div.sk-estimator input.sk-toggleable__control:checked~label.sk-toggleable__label {background-color: #d4ebff;}#sk-container-id-1 div.sk-label input.sk-toggleable__control:checked~label.sk-toggleable__label {background-color: #d4ebff;}#sk-container-id-1 input.sk-hidden--visually {border: 0;clip: rect(1px 1px 1px 1px);clip: rect(1px, 1px, 1px, 1px);height: 1px;margin: -1px;overflow: hidden;padding: 0;position: absolute;width: 1px;}#sk-container-id-1 div.sk-estimator {font-family: monospace;background-color: #f0f8ff;border: 1px dotted black;border-radius: 0.25em;box-sizing: border-box;margin-bottom: 0.5em;}#sk-container-id-1 div.sk-estimator:hover {background-color: #d4ebff;}#sk-container-id-1 div.sk-parallel-item::after {content: \"\";width: 100%;border-bottom: 1px solid gray;flex-grow: 1;}#sk-container-id-1 div.sk-label:hover label.sk-toggleable__label {background-color: #d4ebff;}#sk-container-id-1 div.sk-serial::before {content: \"\";position: absolute;border-left: 1px solid gray;box-sizing: border-box;top: 0;bottom: 0;left: 50%;z-index: 0;}#sk-container-id-1 div.sk-serial {display: flex;flex-direction: column;align-items: center;background-color: white;padding-right: 0.2em;padding-left: 0.2em;position: relative;}#sk-container-id-1 div.sk-item {position: relative;z-index: 1;}#sk-container-id-1 div.sk-parallel {display: flex;align-items: stretch;justify-content: center;background-color: white;position: relative;}#sk-container-id-1 div.sk-item::before, #sk-container-id-1 div.sk-parallel-item::before {content: \"\";position: absolute;border-left: 1px solid gray;box-sizing: border-box;top: 0;bottom: 0;left: 50%;z-index: -1;}#sk-container-id-1 div.sk-parallel-item {display: flex;flex-direction: column;z-index: 1;position: relative;background-color: white;}#sk-container-id-1 div.sk-parallel-item:first-child::after {align-self: flex-end;width: 50%;}#sk-container-id-1 div.sk-parallel-item:last-child::after {align-self: flex-start;width: 50%;}#sk-container-id-1 div.sk-parallel-item:only-child::after {width: 0;}#sk-container-id-1 div.sk-dashed-wrapped {border: 1px dashed gray;margin: 0 0.4em 0.5em 0.4em;box-sizing: border-box;padding-bottom: 0.4em;background-color: white;}#sk-container-id-1 div.sk-label label {font-family: monospace;font-weight: bold;display: inline-block;line-height: 1.2em;}#sk-container-id-1 div.sk-label-container {text-align: center;}#sk-container-id-1 div.sk-container {/* jupyter's `normalize.less` sets `[hidden] { display: none; }` but bootstrap.min.css set `[hidden] { display: none !important; }` so we also need the `!important` here to be able to override the default hidden behavior on the sphinx rendered scikit-learn.org. See: https://github.com/scikit-learn/scikit-learn/issues/21755 */display: inline-block !important;position: relative;}#sk-container-id-1 div.sk-text-repr-fallback {display: none;}</style><div id=\"sk-container-id-1\" class=\"sk-top-container\"><div class=\"sk-text-repr-fallback\"><pre>LinearRegression()</pre><b>In a Jupyter environment, please rerun this cell to show the HTML representation or trust the notebook. <br />On GitHub, the HTML representation is unable to render, please try loading this page with nbviewer.org.</b></div><div class=\"sk-container\" hidden><div class=\"sk-item\"><div class=\"sk-estimator sk-toggleable\"><input class=\"sk-toggleable__control sk-hidden--visually\" id=\"sk-estimator-id-1\" type=\"checkbox\" checked><label for=\"sk-estimator-id-1\" class=\"sk-toggleable__label sk-toggleable__label-arrow\">LinearRegression</label><div class=\"sk-toggleable__content\"><pre>LinearRegression()</pre></div></div></div></div></div>"
      ],
      "text/plain": [
       "LinearRegression()"
      ]
     },
     "execution_count": 22,
     "metadata": {},
     "output_type": "execute_result"
    }
   ],
   "source": [
    "#Creating and training the linear regression model\n",
    "model = LinearRegression()\n",
    "model.fit(X_train, y_train)"
   ]
  },
  {
   "cell_type": "code",
   "execution_count": 23,
   "id": "8224db42-7524-4170-88c3-69d8d3bd76e3",
   "metadata": {},
   "outputs": [],
   "source": [
    "#Making predictions on the test set\n",
    "y_pred = model.predict(X_test)"
   ]
  },
  {
   "cell_type": "markdown",
   "id": "20ceef74-b8c8-45ee-aafc-c3e3eced7725",
   "metadata": {},
   "source": [
    "<h1>Evaluate the model:</h1>"
   ]
  },
  {
   "cell_type": "markdown",
   "id": "ef1abf94-5a20-4807-8aae-bc6f9edb5b4a",
   "metadata": {},
   "source": [
    "<h3>Mean Squared Error (MSE) measures the average squared difference between the predicted and actual values of the target variable. A lower MSE indicates better performance.</h3>\n",
    "<h3>Root Mean Squared Error (RMSE) is the square root of the MSE and measures the average difference between the predicted and actual values of the target variable. A lower RMSE indicates better performance.</h3>\n",
    "<h3>R-squared (R2) measures the proportion of variance in the target variable that is explained by the model. R2 values range from 0 to 1, with higher values indicating better fit.</h3>"
   ]
  },
  {
   "cell_type": "code",
   "execution_count": 24,
   "id": "089b84de-8aa8-45cd-917b-d3ba73c68026",
   "metadata": {},
   "outputs": [
    {
     "name": "stdout",
     "output_type": "stream",
     "text": [
      "Mean Squared Error: 347.06539126345234\n"
     ]
    }
   ],
   "source": [
    "#Evaluating the model\n",
    "mse = mean_squared_error(y_test, y_pred)\n",
    "print('Mean Squared Error:', mse)"
   ]
  },
  {
   "cell_type": "code",
   "execution_count": 25,
   "id": "53eb29a7-103d-4052-b765-270b9659f775",
   "metadata": {},
   "outputs": [
    {
     "name": "stdout",
     "output_type": "stream",
     "text": [
      "RMSE: 18.62969112098889\n"
     ]
    }
   ],
   "source": [
    "rmse = np.sqrt(mse)\n",
    "print('RMSE:', rmse)"
   ]
  },
  {
   "cell_type": "code",
   "execution_count": 26,
   "id": "cb88e282-c380-40c0-896e-9a08e1635949",
   "metadata": {},
   "outputs": [
    {
     "name": "stdout",
     "output_type": "stream",
     "text": [
      "R2: 0.04188521972231862\n"
     ]
    }
   ],
   "source": [
    "r2 = r2_score(y_test, y_pred)\n",
    "print('R2:', r2)"
   ]
  },
  {
   "cell_type": "markdown",
   "id": "1e4a427a-6e7d-4516-91aa-752776e1faa5",
   "metadata": {},
   "source": [
    "<h3>Based on these metrics, the model has an MSE of 347.06 and an RMSE of 18.62, which suggests that the model's predictions have a relatively high error rate. Additionally, the R2 value of 0.041 indicates that the model explains only a small proportion of the variance in the target variable.</h3>"
   ]
  }
 ],
 "metadata": {
  "kernelspec": {
   "display_name": "Python 3 (ipykernel)",
   "language": "python",
   "name": "python3"
  },
  "language_info": {
   "codemirror_mode": {
    "name": "ipython",
    "version": 3
   },
   "file_extension": ".py",
   "mimetype": "text/x-python",
   "name": "python",
   "nbconvert_exporter": "python",
   "pygments_lexer": "ipython3",
   "version": "3.8.17"
  }
 },
 "nbformat": 4,
 "nbformat_minor": 5
}
